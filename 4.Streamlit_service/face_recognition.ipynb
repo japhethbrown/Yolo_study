{
 "cells": [
  {
   "cell_type": "code",
   "execution_count": 11,
   "id": "17029935-fb3d-4130-8369-d2e3514f8468",
   "metadata": {
    "tags": []
   },
   "outputs": [],
   "source": [
    "import cv2\n",
    "import face_recognition\n",
    "\n",
    "# 비교할 얼굴 이미지 파일 로드\n",
    "known_image = face_recognition.load_image_file(\"my_image.jpg\") # 비교할 이미지 이름 넣기\n",
    "known_face_encoding = face_recognition.face_encodings(known_image)[0]\n",
    "\n",
    "# webcam 정의\n",
    "video_capture = cv2.VideoCapture(0)\n",
    "\n",
    "while True:\n",
    "    # 프레임별로 캡처\n",
    "    ret, frame = video_capture.read()\n",
    "\n",
    "    # 현재 프레임에서 모든 얼굴 face_locations 및 face_encodings 찾기\n",
    "    face_locations = face_recognition.face_locations(frame) # face_locations() : 이미지에서 얼굴이 위치한 영역 탐지\n",
    "    face_encodings = face_recognition.face_encodings(frame, face_locations) # face_encodings() : 이미지에서 특징 검출 후 벡터 생성\n",
    "\n",
    "    for (top, right, bottom, left), face_encoding in zip(face_locations, face_encodings): # 2개의 이미지를 묶어, 각 얼굴의 위치와 그에 해당하는 특징 벡터를 순서대로 가져옴\n",
    "        # 얼굴 비교 compare_faces()\n",
    "        matches = face_recognition.compare_faces([known_face_encoding], face_encoding) \n",
    "        # compare_faces() : 두 인코딩 사이의 거리를 비교하고, 거리가 일정 임계값 이하인 경우 얼굴이 동일한 것으로 간주함\n",
    "\n",
    "        # 얼굴 주위 사각형 그리기\n",
    "        cv2.rectangle(frame, (left, top), (right, bottom), (0, 0, 255), 2)\n",
    "\n",
    "        # 결과 표시\n",
    "        name = \"Unknown\"\n",
    "        if matches[0]:\n",
    "            name = \"Known\"\n",
    "        # cv2.rectangle(frame, (left, bottom - 35), (right, bottom), (0, 0, 255), cv2.FILLED) \n",
    "        cv2.putText(frame, name, (left + 6, bottom - 6), cv2.FONT_HERSHEY_DUPLEX, 0.5, (255, 255, 255), 1)\n",
    "\n",
    "    # 결과 표시\n",
    "    cv2.imshow('Video', frame)\n",
    "\n",
    "    # q 누르면 종료\n",
    "    if cv2.waitKey(1) & 0xFF == ord('q'):\n",
    "        break\n",
    "\n",
    "# 해제\n",
    "video_capture.release()\n",
    "cv2.destroyAllWindows()"
   ]
  }
 ],
 "metadata": {
  "kernelspec": {
   "display_name": "Python 3 (ipykernel)",
   "language": "python",
   "name": "python3"
  },
  "language_info": {
   "codemirror_mode": {
    "name": "ipython",
    "version": 3
   },
   "file_extension": ".py",
   "mimetype": "text/x-python",
   "name": "python",
   "nbconvert_exporter": "python",
   "pygments_lexer": "ipython3",
   "version": "3.10.13"
  }
 },
 "nbformat": 4,
 "nbformat_minor": 5
}
